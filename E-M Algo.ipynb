{
 "cells": [
  {
   "cell_type": "markdown",
   "metadata": {},
   "source": [
    "**Expectation Maximaztion Algorithm**\n",
    "\n",
    "Create 2 synthetic normal distribution N(0,1), N(-1,3)"
   ]
  },
  {
   "cell_type": "code",
   "execution_count": 1,
   "metadata": {},
   "outputs": [],
   "source": [
    "import numpy as np\n",
    "from scipy.stats import norm\n",
    "\n",
    "s1 = np.random.normal(0, 1, 10000) # weight = 2/3\n",
    "s2 = np.random.normal(-1, 3, 5000) # weight = 1/3\n",
    "data = np.r_[s1,s2]"
   ]
  },
  {
   "cell_type": "markdown",
   "metadata": {},
   "source": [
    "**Main**"
   ]
  },
  {
   "cell_type": "code",
   "execution_count": 2,
   "metadata": {},
   "outputs": [
    {
     "name": "stdout",
     "output_type": "stream",
     "text": [
      "Iteration:  1  with log-likelihood:  -133621.09940034308\n",
      "Iteration:  2  with log-likelihood:  -85425.29363326226\n",
      "Iteration:  3  with log-likelihood:  -87913.38733762111\n",
      "Iteration:  4  with log-likelihood:  -94219.35743935725\n",
      "Iteration:  5  with log-likelihood:  -103529.11392701081\n",
      "Iteration:  6  with log-likelihood:  -111998.02597265708\n",
      "Iteration:  7  with log-likelihood:  -117474.80832035965\n",
      "Iteration:  8  with log-likelihood:  -120268.28554506549\n",
      "Iteration:  9  with log-likelihood:  -121407.36725584202\n",
      "Iteration:  10  with log-likelihood:  -121699.04924258568\n",
      "Iteration:  11  with log-likelihood:  -121605.82320637853\n",
      "Iteration:  12  with log-likelihood:  -121358.85848656115\n",
      "Iteration:  13  with log-likelihood:  -121065.27946765377\n",
      "Iteration:  14  with log-likelihood:  -120771.76861591838\n",
      "Iteration:  15  with log-likelihood:  -120496.98932988752\n",
      "Iteration:  16  with log-likelihood:  -120247.06560396226\n",
      "Iteration:  17  with log-likelihood:  -120022.72830942592\n",
      "Iteration:  18  with log-likelihood:  -119822.5419497123\n",
      "Iteration:  19  with log-likelihood:  -119644.33008627157\n",
      "Iteration:  20  with log-likelihood:  -119485.78515227867\n",
      "Iteration:  21  with log-likelihood:  -119344.71392944265\n",
      "Iteration:  22  with log-likelihood:  -119219.1231222547\n",
      "Iteration:  23  with log-likelihood:  -119107.23680226918\n",
      "Iteration:  24  with log-likelihood:  -119007.48647528564\n",
      "Iteration:  25  with log-likelihood:  -118918.49157133789\n",
      "Iteration:  26  with log-likelihood:  -118839.03790622696\n",
      "Iteration:  27  with log-likelihood:  -118768.05713130951\n",
      "Iteration:  28  with log-likelihood:  -118704.60821777178\n",
      "Iteration:  29  with log-likelihood:  -118647.86119069187\n",
      "Iteration:  30  with log-likelihood:  -118597.08299907237\n",
      "Iteration:  31  with log-likelihood:  -118551.62529606075\n",
      "Iteration:  32  with log-likelihood:  -118510.9138825699\n",
      "Iteration:  33  with log-likelihood:  -118474.43958210033\n",
      "Iteration:  34  with log-likelihood:  -118441.75034091013\n",
      "Iteration:  35  with log-likelihood:  -118412.44437587194\n",
      "Iteration:  36  with log-likelihood:  -118386.16421857468\n",
      "Iteration:  37  with log-likelihood:  -118362.59152726477\n",
      "Iteration:  38  with log-likelihood:  -118341.4425579379\n",
      "Iteration:  39  with log-likelihood:  -118322.46420255989\n",
      "Iteration:  40  with log-likelihood:  -118305.43051640716\n",
      "Iteration:  41  with log-likelihood:  -118290.13966827163\n",
      "Iteration:  42  with log-likelihood:  -118276.41125713318\n",
      "Iteration:  43  with log-likelihood:  -118264.08394718172\n",
      "Iteration:  44  with log-likelihood:  -118253.01338002873\n",
      "Iteration:  45  with log-likelihood:  -118243.07032881258\n",
      "Iteration:  46  with log-likelihood:  -118234.13906385057\n",
      "Iteration:  47  with log-likelihood:  -118226.11590368026\n",
      "Iteration:  48  with log-likelihood:  -118218.9079288852\n",
      "Iteration:  49  with log-likelihood:  -118212.43183912174\n",
      "Iteration:  50  with log-likelihood:  -118206.6129363409\n",
      "Iteration:  51  with log-likelihood:  -118201.38421940131\n",
      "Iteration:  52  with log-likelihood:  -118196.6855771569\n",
      "Iteration:  53  with log-likelihood:  -118192.46306872639\n",
      "Iteration:  54  with log-likelihood:  -118188.66828104935\n",
      "Iteration:  55  with log-likelihood:  -118185.25775504098\n",
      "Iteration:  56  with log-likelihood:  -118182.19247270483\n",
      "Iteration:  57  with log-likelihood:  -118179.43739847021\n",
      "Iteration:  58  with log-likelihood:  -118176.96106881133\n",
      "Iteration:  59  with log-likelihood:  -118174.73522489562\n",
      "Iteration:  60  with log-likelihood:  -118172.7344836105\n",
      "Iteration:  61  with log-likelihood:  -118170.93604284665\n",
      "Iteration:  62  with log-likelihood:  -118169.3194173789\n",
      "Iteration:  63  with log-likelihood:  -118167.86620209401\n",
      "Iteration:  64  with log-likelihood:  -118166.55985967343\n",
      "Iteration:  65  with log-likelihood:  -118165.38553015674\n",
      "Iteration:  66  with log-likelihood:  -118164.32986009041\n",
      "Iteration:  67  with log-likelihood:  -118163.38084921673\n",
      "Iteration:  68  with log-likelihood:  -118162.52771287478\n",
      "Iteration:  69  with log-likelihood:  -118161.7607584834\n",
      "Iteration:  70  with log-likelihood:  -118161.07127464708\n",
      "Iteration:  71  with log-likelihood:  -118160.45143158137\n",
      "Iteration:  72  with log-likelihood:  -118159.89419169074\n",
      "Iteration:  73  with log-likelihood:  -118159.39322925537\n",
      "Iteration:  74  with log-likelihood:  -118158.94285829114\n",
      "Iteration:  75  with log-likelihood:  -118158.53796774521\n",
      "Iteration:  76  with log-likelihood:  -118158.17396327665\n",
      "Iteration:  77  with log-likelihood:  -118157.84671494896\n",
      "Iteration:  78  with log-likelihood:  -118157.55251023096\n",
      "Iteration:  79  with log-likelihood:  -118157.28801176505\n",
      "Iteration:  80  with log-likelihood:  -118157.050219417\n",
      "Iteration:  81  with log-likelihood:  -118156.83643617133\n",
      "Iteration:  82  with log-likelihood:  -118156.64423748189\n",
      "Iteration:  83  with log-likelihood:  -118156.4714437258\n",
      "Iteration:  84  with log-likelihood:  -118156.31609544613\n",
      "Iteration:  85  with log-likelihood:  -118156.17643110002\n",
      "Iteration:  86  with log-likelihood:  -118156.0508670581\n",
      "Iteration:  87  with log-likelihood:  -118155.9379796274\n",
      "Iteration:  88  with log-likelihood:  -118155.83648889192\n",
      "Iteration:  89  with log-likelihood:  -118155.74524418742\n",
      "Iteration:  90  with log-likelihood:  -118155.66321104461\n",
      "Iteration:  91  with log-likelihood:  -118155.58945945217\n",
      "Iteration:  92  with log-likelihood:  -118155.52315330599\n",
      "Iteration:  93  with log-likelihood:  -118155.46354092467\n",
      "Iteration:  94  with log-likelihood:  -118155.4099465234\n",
      "Iteration:  95  with log-likelihood:  -118155.36176254903\n",
      "Iteration:  96  with log-likelihood:  -118155.3184427901\n",
      "Iteration:  97  with log-likelihood:  -118155.27949618205\n",
      "Iteration:  98  with log-likelihood:  -118155.24448123903\n",
      "Iteration:  99  with log-likelihood:  -118155.21300104746\n",
      "Iteration:  100  with log-likelihood:  -118155.18469876566\n",
      "Iteration:  101  with log-likelihood:  -118155.1592535777\n",
      "Iteration:  102  with log-likelihood:  -118155.13637705613\n",
      "Iteration:  103  with log-likelihood:  -118155.11580989171\n",
      "Iteration:  104  with log-likelihood:  -118155.09731895359\n",
      "Iteration:  105  with log-likelihood:  -118155.0806946466\n",
      "Iteration:  106  with log-likelihood:  -118155.0657485346\n",
      "Iteration:  107  with log-likelihood:  -118155.05231120465\n",
      "Iteration:  108  with log-likelihood:  -118155.04023034628\n"
     ]
    }
   ],
   "source": [
    "# initialize \n",
    "# wild guess\n",
    "w  = [0.5,0.5]\n",
    "mu = [10,-10]\n",
    "sig= [10,10]\n",
    "\n",
    "loglk_list = []\n",
    "iter_n = 0\n",
    "\n",
    "# start EM algo\n",
    "while True:\n",
    "    w = np.array(w)\n",
    "    p = np.array([norm.pdf(data,m,s) for m, s in zip(mu,sig)]) # = P(data|dist_i)\n",
    "\n",
    "    mod_w = w[:,np.newaxis]*p            # [:, newaxis] > from 1 d to 2 d array\n",
    "    mod_w = mod_w / np.sum(mod_w,axis=0) # = P(data belongs to dist_i | data)\n",
    "    mod_p = mod_w * p                    # * is element-wise, @ is matrix multiplication\n",
    "    loglk = np.sum(np.log(mod_p))        # log-likelihood to be maximize\n",
    "\n",
    "    # update parameters\n",
    "    w   = np.mean(mod_w,axis=1)                                                         # new weight\n",
    "    mu  = np.sum(mod_w*data, axis=1)/np.sum(mod_w,axis=1)                               # weighted mean\n",
    "    sig = (np.sum(mod_w*(data-mu[:,np.newaxis])**2,axis=1) / np.sum(mod_w,axis=1))**0.5 # weighted std\n",
    "\n",
    "    if len(loglk_list)>0 and abs(loglk / loglk_list[-1] - 1) < 0.0000001:\n",
    "        break\n",
    "\n",
    "    if iter_n > 1000:\n",
    "        break\n",
    "\n",
    "    loglk_list.append(loglk)\n",
    "    iter_n += 1\n",
    "    \n",
    "    print('Iteration: ' ,iter_n, ' with log-likelihood: ',loglk)"
   ]
  },
  {
   "cell_type": "code",
   "execution_count": 3,
   "metadata": {},
   "outputs": [
    {
     "data": {
      "text/plain": [
       "array([ 0.00221388, -0.96698346])"
      ]
     },
     "execution_count": 3,
     "metadata": {},
     "output_type": "execute_result"
    }
   ],
   "source": [
    "mu"
   ]
  },
  {
   "cell_type": "code",
   "execution_count": 4,
   "metadata": {},
   "outputs": [
    {
     "data": {
      "text/plain": [
       "array([1.00148815, 2.99413772])"
      ]
     },
     "execution_count": 4,
     "metadata": {},
     "output_type": "execute_result"
    }
   ],
   "source": [
    "sig"
   ]
  },
  {
   "cell_type": "code",
   "execution_count": 5,
   "metadata": {},
   "outputs": [
    {
     "data": {
      "text/plain": [
       "array([0.66191984, 0.33808016])"
      ]
     },
     "execution_count": 5,
     "metadata": {},
     "output_type": "execute_result"
    }
   ],
   "source": [
    "w"
   ]
  },
  {
   "cell_type": "markdown",
   "metadata": {},
   "source": [
    "What we have got is pretty close to the synthetic data."
   ]
  },
  {
   "cell_type": "code",
   "execution_count": null,
   "metadata": {},
   "outputs": [],
   "source": []
  }
 ],
 "metadata": {
  "kernelspec": {
   "display_name": "Python 3",
   "language": "python",
   "name": "python3"
  },
  "language_info": {
   "codemirror_mode": {
    "name": "ipython",
    "version": 3
   },
   "file_extension": ".py",
   "mimetype": "text/x-python",
   "name": "python",
   "nbconvert_exporter": "python",
   "pygments_lexer": "ipython3",
   "version": "3.6.8"
  }
 },
 "nbformat": 4,
 "nbformat_minor": 2
}
